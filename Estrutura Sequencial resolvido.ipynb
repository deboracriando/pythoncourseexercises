{
 "cells": [
  {
   "cell_type": "markdown",
   "id": "bb0f9514",
   "metadata": {
    "id": "bb0f9514"
   },
   "source": [
    "# Lista de Estrutura Sequencial"
   ]
  },
  {
   "cell_type": "markdown",
   "id": "4e7a8c30",
   "metadata": {
    "id": "4e7a8c30"
   },
   "source": [
    "#### 1. Faça um Programa que mostre a mensagem (print) \"Alo mundo\" na tela."
   ]
  },
  {
   "cell_type": "code",
   "execution_count": 35,
   "id": "883bfe85",
   "metadata": {
    "id": "883bfe85"
   },
   "outputs": [
    {
     "name": "stdout",
     "output_type": "stream",
     "text": [
      "Alo mundo\n",
      "Me chamo Débora e estou adorando saber mais a cada dia, vou me esforçar para um dia ser uma excelente programadora\n"
     ]
    }
   ],
   "source": [
    "print ('Alo mundo')\n",
    "print('Me chamo Débora e estou adorando saber mais a cada dia, vou me esforçar para um dia ser uma excelente programadora')"
   ]
  },
  {
   "cell_type": "markdown",
   "id": "71d6d6a2",
   "metadata": {
    "id": "71d6d6a2"
   },
   "source": [
    "#### 2. Faça um Programa que peça um número (input) e então mostre a mensagem: \"O número informado foi [número].\""
   ]
  },
  {
   "cell_type": "code",
   "execution_count": 37,
   "id": "30cfffcf",
   "metadata": {
    "id": "30cfffcf"
   },
   "outputs": [
    {
     "name": "stdin",
     "output_type": "stream",
     "text": [
      "Por favor digite um número de 0 a 99 65\n"
     ]
    },
    {
     "name": "stdout",
     "output_type": "stream",
     "text": [
      "O número informado foi 65.\n"
     ]
    },
    {
     "name": "stdin",
     "output_type": "stream",
     "text": [
      "Olá, qual seria seu pedido por favor? (insira o numero descrito abaixo do exemplo 42554\n"
     ]
    },
    {
     "name": "stdout",
     "output_type": "stream",
     "text": [
      "o cliente quer o prato 42554.\n"
     ]
    }
   ],
   "source": [
    "numero = input('Por favor digite um número de 0 a 99')\n",
    "print(f'O número informado foi {numero}.')\n",
    "\n",
    "numero_1 = input('Olá, qual seria seu pedido por favor? (insira o numero descrito abaixo do exemplo')\n",
    "print(f'o cliente quer o prato {numero_1}.')"
   ]
  },
  {
   "cell_type": "markdown",
   "id": "c5e43160",
   "metadata": {
    "id": "c5e43160"
   },
   "source": [
    "#### 3.Faça um Programa que peça dois números e imprima a soma."
   ]
  },
  {
   "cell_type": "code",
   "execution_count": 48,
   "id": "b0e79590",
   "metadata": {
    "id": "b0e79590"
   },
   "outputs": [
    {
     "name": "stdin",
     "output_type": "stream",
     "text": [
      "Por favor insira o primeiro numero: 100\n",
      "agora insira o segundo número: 2\n"
     ]
    },
    {
     "name": "stdout",
     "output_type": "stream",
     "text": [
      "A soma dos dois numeros é igual a: 102\n"
     ]
    }
   ],
   "source": [
    "numero_1 = int(input('Por favor insira o primeiro numero:'))\n",
    "numero_2 = int(input('agora insira o segundo número:'))\n",
    "\n",
    "print('A soma dos dois numeros é igual a:', numero_1 + numero_2)"
   ]
  },
  {
   "cell_type": "markdown",
   "id": "17826987",
   "metadata": {
    "id": "17826987"
   },
   "source": [
    "#### 4. Faça um Programa que peça as 4 notas bimestrais de um aluno e mostre a média de todas as notas."
   ]
  },
  {
   "cell_type": "code",
   "execution_count": 56,
   "id": "23b66762",
   "metadata": {
    "id": "23b66762"
   },
   "outputs": [
    {
     "name": "stdout",
     "output_type": "stream",
     "text": [
      "Vamos calcular sua média neste bimestre?\n"
     ]
    },
    {
     "name": "stdin",
     "output_type": "stream",
     "text": [
      "insira a primeira nota: 10\n",
      "agora a segunda nota: 2\n",
      "agora a terceira nota: 8\n",
      "e por fim a quarta nota: 3\n"
     ]
    },
    {
     "name": "stdout",
     "output_type": "stream",
     "text": [
      "Sua média neste bimestre é: 5.75\n"
     ]
    }
   ],
   "source": [
    "print('Vamos calcular sua média neste bimestre?')\n",
    "nota1 = float(input('insira a primeira nota:'))\n",
    "nota2 = float(input('agora a segunda nota:'))\n",
    "nota3 = float(input('agora a terceira nota:'))\n",
    "nota4 = float(input('e por fim a quarta nota:'))\n",
    "\n",
    "print('Sua média neste bimestre é:',(nota1 + nota2 + nota3 + nota4)/4)"
   ]
  },
  {
   "cell_type": "markdown",
   "id": "62d461c5",
   "metadata": {
    "id": "62d461c5"
   },
   "source": [
    "#### 5. Faça um Programa que converta metros para centímetros. Você pode pedir o comprimento em metros para o usuário (input)."
   ]
  },
  {
   "cell_type": "code",
   "execution_count": 67,
   "id": "d642f1ba",
   "metadata": {
    "id": "d642f1ba"
   },
   "outputs": [
    {
     "name": "stdout",
     "output_type": "stream",
     "text": [
      "Olá, sou um conversor de metros para centimentros\n"
     ]
    },
    {
     "name": "stdin",
     "output_type": "stream",
     "text": [
      "por favor insira o numero em metros para que eu possa te ajudar, caso tenha casa decimal utilizar ponto ao inves de virguls: 123.5\n"
     ]
    },
    {
     "name": "stdout",
     "output_type": "stream",
     "text": [
      "O numero inserido convertido é equivalente a 12350.0 centimentros\n"
     ]
    }
   ],
   "source": [
    "print('Olá, sou um conversor de metros para centimentros') \n",
    "numero = float(input('por favor insira o numero em metros para que eu possa te ajudar, caso tenha casa decimal utilizar ponto ao inves de virguls:'))\n",
    "print('O numero inserido convertido é equivalente a', numero*100 ,'centimentros')\n"
   ]
  },
  {
   "cell_type": "markdown",
   "id": "f1311697",
   "metadata": {
    "id": "f1311697"
   },
   "source": [
    "#### 6. Faça um Programa que calcule a área de uma sala de um apartamento. Para isso, o seu programa precisa pedir a largura da sala, o comprimento da sala e imprimir a área em m² da sala."
   ]
  },
  {
   "cell_type": "code",
   "execution_count": 80,
   "id": "612ea24b",
   "metadata": {
    "id": "612ea24b"
   },
   "outputs": [
    {
     "name": "stdout",
     "output_type": "stream",
     "text": [
      "Olá, vou te ajudar a medir a área toTal\n"
     ]
    },
    {
     "name": "stdin",
     "output_type": "stream",
     "text": [
      "Por favor, qual é a largura: 15.1\n",
      "e qual é o comprimento?: 65.2\n"
     ]
    },
    {
     "name": "stdout",
     "output_type": "stream",
     "text": [
      "Ok obrigada, a área total é de: 984.52 m²\n"
     ]
    }
   ],
   "source": [
    "print('Olá, vou te ajudar a medir a área toTal')\n",
    "numero1 = float(input('Por favor, qual é a largura:'))\n",
    "numero2 = float(input('e qual é o comprimento?:'))\n",
    "print('Ok obrigada, a área total é de:', numero1 * numero2 ,'m²')\n",
    "      \n",
    "\n",
    "        \n",
    "      "
   ]
  },
  {
   "cell_type": "markdown",
   "id": "2a285929",
   "metadata": {
    "id": "2a285929"
   },
   "source": [
    "#### 7. Faça um Programa que pergunte quanto você ganha por hora e o número de horas trabalhadas no mês. Calcule e mostre o total do seu salário no referido mês."
   ]
  },
  {
   "cell_type": "code",
   "execution_count": 90,
   "id": "359e2232",
   "metadata": {
    "id": "359e2232"
   },
   "outputs": [
    {
     "name": "stdout",
     "output_type": "stream",
     "text": [
      "Vamos calcular o valor do seu salario?\n"
     ]
    },
    {
     "name": "stdin",
     "output_type": "stream",
     "text": [
      "Quanto você ganha por hora de trabalho? 90.00\n",
      "e quantas horas você trabalhou no mês de julho, lembrando que tem 31 dias? 194.86\n"
     ]
    },
    {
     "name": "stdout",
     "output_type": "stream",
     "text": [
      "Ok entendi, seu salario no mês de julho foi de 17537.4 reais\n"
     ]
    }
   ],
   "source": [
    "#escolhi o mês de julho\n",
    "print('Vamos calcular o valor do seu salario?')\n",
    "numero_1 = float(input('Quanto você ganha por hora de trabalho?'))\n",
    "numero_2 = float(input('e quantas horas você trabalhou no mês de julho, lembrando que tem 31 dias?'))\n",
    "\n",
    "\n",
    "print('Ok entendi, seu salario no mês de julho foi de', numero_1 * numero_2, 'reais')"
   ]
  },
  {
   "cell_type": "markdown",
   "id": "7e2d4615",
   "metadata": {
    "id": "7e2d4615"
   },
   "source": [
    "#### 8. Vamos criar um conversor de temperatura. Faça um Programa que peça a temperatura em graus Fahrenheit, transforme e mostre a temperatura em graus Celsius.\n",
    "$C = \\frac{5}{9}(F-32)$"
   ]
  },
  {
   "cell_type": "code",
   "execution_count": 112,
   "id": "82daf9fd",
   "metadata": {
    "id": "82daf9fd"
   },
   "outputs": [
    {
     "name": "stdout",
     "output_type": "stream",
     "text": [
      "Vamos converter graus fahrenheit em celcius? Vamos lá, vou te ajudar\n"
     ]
    },
    {
     "name": "stdin",
     "output_type": "stream",
     "text": [
      "Qual a temperatura em fahrenheit? 79.5\n"
     ]
    },
    {
     "name": "stdout",
     "output_type": "stream",
     "text": [
      "O resultado é 26.38888888888889 graus celcius.\n"
     ]
    }
   ],
   "source": [
    "print('Vamos converter graus fahrenheit em celcius? Vamos lá, vou te ajudar')\n",
    "numero1 = float(input('Qual a temperatura em fahrenheit?'))\n",
    "print('O resultado é', (numero1 - 32) * 5/9 ,'graus celcius.')\n"
   ]
  },
  {
   "cell_type": "markdown",
   "id": "20708b1c",
   "metadata": {
    "id": "20708b1c"
   },
   "source": [
    "#### 9. Faça um Programa que peça a temperatura em graus Celsius, transforme e mostre em graus Fahrenheit.\n",
    "$F = \\frac{9}{5}C + 32$"
   ]
  },
  {
   "cell_type": "code",
   "execution_count": 114,
   "id": "c73cfb38",
   "metadata": {
    "id": "c73cfb38"
   },
   "outputs": [
    {
     "name": "stdout",
     "output_type": "stream",
     "text": [
      "Agora vamos converter graus celcius em fahrenheit?\n"
     ]
    },
    {
     "name": "stdin",
     "output_type": "stream",
     "text": [
      "Qual a temperatura em celcius? 38.4\n"
     ]
    },
    {
     "name": "stdout",
     "output_type": "stream",
     "text": [
      "O resultado é 101.11999999999999 graus fahrenheit.\n"
     ]
    }
   ],
   "source": [
    "print('Agora vamos converter graus celcius em fahrenheit?')\n",
    "numero1 = float(input('Qual a temperatura em celcius?'))\n",
    "print('O resultado é', (numero1 * 9 / 5) + 32 ,'graus fahrenheit.')\n"
   ]
  },
  {
   "cell_type": "markdown",
   "id": "b263a9dc",
   "metadata": {
    "id": "b263a9dc"
   },
   "source": [
    "#### 10. Tendo como dados de entrada a altura (h) de uma pessoa, construa um algoritmo que calcule seu peso ideal, usando a seguinte fórmula:\n",
    "$P = 72,7h - 58$\n",
    "\n",
    "Lembrando que \"algoritmo\" nada mais é do que um programa, como todos os outros que você vem fazendo"
   ]
  },
  {
   "cell_type": "code",
   "execution_count": 133,
   "id": "9a9b8dca",
   "metadata": {
    "id": "9a9b8dca"
   },
   "outputs": [
    {
     "name": "stdout",
     "output_type": "stream",
     "text": [
      "Você não sabe qual seria seu peso ideal?, Sabia que existe uma formula pra isso? Vamos calcular? Vou te ajudar.\n"
     ]
    },
    {
     "name": "stdin",
     "output_type": "stream",
     "text": [
      "Qual sua altura?: 1.78\n"
     ]
    },
    {
     "name": "stdout",
     "output_type": "stream",
     "text": [
      "De acordo com o calculo seu peso ideal seria 71.406 kilos\n"
     ]
    }
   ],
   "source": [
    "print('Você não sabe qual seria seu peso ideal?, Sabia que existe uma formula pra isso? Vamos calcular? Vou te ajudar.')\n",
    "numero = float(input('Qual sua altura?:'))\n",
    "print('De acordo com o calculo seu peso ideal seria', (72.7 * numero) - 58 ,'kilos')      "
   ]
  },
  {
   "cell_type": "markdown",
   "id": "13bb40d7",
   "metadata": {
    "id": "13bb40d7"
   },
   "source": [
    "#### 11. Tendo como dado de entrada a altura (h) de uma pessoa, construa um algoritmo que calcule seu peso ideal, utilizando as seguintes fórmulas:\n",
    "##### a. Para homens: $P = 72,7h - 58$\n",
    "##### b. Para mulheres: $P = 62,1h - 44,7$"
   ]
  },
  {
   "cell_type": "code",
   "execution_count": 135,
   "id": "bf82dc8c",
   "metadata": {
    "id": "bf82dc8c"
   },
   "outputs": [
    {
     "name": "stdout",
     "output_type": "stream",
     "text": [
      "Você não sabe qual seria seu peso ideal?, Sabia que existe uma formula pra isso? Vamos calcular? Vou te ajudar.\n"
     ]
    },
    {
     "name": "stdin",
     "output_type": "stream",
     "text": [
      "Qual sua altura?: 1.79\n"
     ]
    },
    {
     "name": "stdout",
     "output_type": "stream",
     "text": [
      "De acordo com o calculo seu peso ideal seria 72.13300000000001 kilos\n",
      "Você não sabe qual seria seu peso ideal?, Sabia que existe uma formula pra isso? Vamos calcular? Vou te ajudar.\n"
     ]
    },
    {
     "name": "stdin",
     "output_type": "stream",
     "text": [
      "Qual sua altura?: 1.67\n"
     ]
    },
    {
     "name": "stdout",
     "output_type": "stream",
     "text": [
      "De acordo com o calculo seu peso ideal seria 59.00699999999999 kilos\n"
     ]
    }
   ],
   "source": [
    "#a.\n",
    "print('Você não sabe qual seria seu peso ideal?, Sabia que existe uma formula pra isso? Vamos calcular? Vou te ajudar.')\n",
    "numero = float(input('Qual sua altura?:'))\n",
    "print('De acordo com o calculo seu peso ideal seria', (72.7 * numero) - 58 ,'kilos')      \n",
    "\n",
    "#b.\n",
    "print('Você não sabe qual seria seu peso ideal?, Sabia que existe uma formula pra isso? Vamos calcular? Vou te ajudar.')\n",
    "numero = float(input('Qual sua altura?:'))\n",
    "print('De acordo com o calculo seu peso ideal seria', (62.1 * numero) - 44.7 ,'kilos')      \n"
   ]
  },
  {
   "cell_type": "markdown",
   "id": "f208ef89",
   "metadata": {
    "id": "f208ef89"
   },
   "source": [
    "#### 12. Faça um Programa que pergunte quanto você ganha por hora e o número de horas trabalhadas no mês."
   ]
  },
  {
   "cell_type": "code",
   "execution_count": 142,
   "id": "2d5b23e0",
   "metadata": {
    "id": "2d5b23e0"
   },
   "outputs": [
    {
     "name": "stdin",
     "output_type": "stream",
     "text": [
      "Quanto você ganha por hora de trabalho? 90.00\n",
      "e quantas horas você trabalhou no mês de fevereiro, lembrando que tem 31 dias? 176\n"
     ]
    },
    {
     "name": "stdout",
     "output_type": "stream",
     "text": [
      "90.0\n",
      "176.0\n"
     ]
    }
   ],
   "source": [
    "#escolhi o mês de fevereiro\n",
    "numero_1 = float(input('Quanto você ganha por hora de trabalho?'))\n",
    "numero_2 = float(input('e quantas horas você trabalhou no mês de fevereiro, lembrando que tem 31 dias?'))\n",
    "print(numero_1)\n",
    "print(numero_2)"
   ]
  },
  {
   "cell_type": "markdown",
   "id": "607dee3c",
   "metadata": {
    "id": "607dee3c"
   },
   "source": [
    "#####  Calcule o salário bruto (horas * salario por hora)"
   ]
  },
  {
   "cell_type": "code",
   "execution_count": 146,
   "id": "7f80ccbb",
   "metadata": {
    "id": "7f80ccbb"
   },
   "outputs": [
    {
     "name": "stdout",
     "output_type": "stream",
     "text": [
      "O salario bruto é de 15840.0 reais\n"
     ]
    }
   ],
   "source": [
    "print('O salario bruto é de', 176 * 90.00 ,'reais')"
   ]
  },
  {
   "cell_type": "markdown",
   "id": "2ed93cb0",
   "metadata": {
    "id": "2ed93cb0"
   },
   "source": [
    "##### Calcule o desconto do IR (11% do salário bruto)"
   ]
  },
  {
   "cell_type": "code",
   "execution_count": 150,
   "id": "3363e22f",
   "metadata": {
    "id": "3363e22f"
   },
   "outputs": [
    {
     "name": "stdout",
     "output_type": "stream",
     "text": [
      "O IR é de 1742.4 reais\n"
     ]
    }
   ],
   "source": [
    "print('O IR é de', 15840 * (11 / 100), 'reais')"
   ]
  },
  {
   "cell_type": "markdown",
   "id": "0994b2c0",
   "metadata": {
    "id": "0994b2c0"
   },
   "source": [
    "##### Calcule o desconto do INSS (8% do salário bruto)"
   ]
  },
  {
   "cell_type": "code",
   "execution_count": 152,
   "id": "748c6088",
   "metadata": {
    "id": "748c6088"
   },
   "outputs": [
    {
     "name": "stdout",
     "output_type": "stream",
     "text": [
      "O INSS é de 1267.2 reais\n"
     ]
    }
   ],
   "source": [
    "print('O INSS é de', 15840 * (8 / 100), 'reais')"
   ]
  },
  {
   "cell_type": "markdown",
   "id": "06e8dae4",
   "metadata": {
    "id": "06e8dae4"
   },
   "source": [
    "##### Calcule o desconto do sindicato (5% do salário bruto)"
   ]
  },
  {
   "cell_type": "code",
   "execution_count": 154,
   "id": "21b95b15",
   "metadata": {
    "id": "21b95b15"
   },
   "outputs": [
    {
     "name": "stdout",
     "output_type": "stream",
     "text": [
      "O desconto sindical é de 792.0 reais\n"
     ]
    }
   ],
   "source": [
    "print('O desconto sindical é de', 15840 * (5 / 100), 'reais')"
   ]
  },
  {
   "cell_type": "markdown",
   "id": "bb14ce36",
   "metadata": {
    "id": "bb14ce36"
   },
   "source": [
    "##### Calcule o salário líquido (salário bruto - descontos)"
   ]
  },
  {
   "cell_type": "code",
   "execution_count": 173,
   "id": "56317086",
   "metadata": {
    "id": "56317086"
   },
   "outputs": [
    {
     "name": "stdout",
     "output_type": "stream",
     "text": [
      "O salario liquido é de -12038.4 reais\n"
     ]
    }
   ],
   "source": [
    "bruto =  176 * 90.00\n",
    "ir = 15840 * (11 / 100)\n",
    "inss = 15840 * (8 / 100)\n",
    "sind = 15840 * (5 / 100)\n",
    "\n",
    "print('O salario liquido é de', (ir + inss + sind)- bruto, 'reais')\n"
   ]
  },
  {
   "cell_type": "markdown",
   "id": "cfbfcc87",
   "metadata": {
    "id": "cfbfcc87"
   },
   "source": [
    "#### 13. Faça um programa para uma loja de tintas. O programa deverá pedir o tamanho em metros quadrados da área a ser pintada. Considere que a cobertura da tinta é de 1 litro para cada 3 metros quadrados e que a tinta é vendida em latas de 18 litros, que custam R\\$ 80,00. Informe ao usuário a quantidades de latas de tinta a serem compradas e o preço total. (para simplificação nesse momento, não se preocupe em arredondar a quantidade de latas a serem compradas - vamos trabalhar isso em breve)"
   ]
  },
  {
   "cell_type": "code",
   "execution_count": 187,
   "id": "fb6a083b",
   "metadata": {
    "id": "fb6a083b"
   },
   "outputs": [
    {
     "name": "stdout",
     "output_type": "stream",
     "text": [
      " Olá, estou aqui para te ajudar a calcular os m² e saber a quantidade de tinta a comprar, vamos começar?\n"
     ]
    },
    {
     "name": "stdin",
     "output_type": "stream",
     "text": [
      "Qual a largura? 10\n",
      "ok e qual o comprimento? 10\n"
     ]
    },
    {
     "name": "stdout",
     "output_type": "stream",
     "text": [
      "A quantidade de latas de tinta a comprar é de 1.851851851851852, totalizando um custo de 148.14814814814815 reais\n"
     ]
    }
   ],
   "source": [
    "print(' Olá, estou aqui para te ajudar a calcular os m² e saber a quantidade de tinta a comprar, vamos começar?')\n",
    "largura = float(input('Qual a largura?'))\n",
    "comprimento = float(input('ok e qual o comprimento?'))\n",
    "m2 = largura * comprimento\n",
    "qtdade_tinta = m2 / 3\n",
    "qtdade_lata = qtdade_tinta / 18\n",
    "custo = qtdade_lata * 80\n",
    "print(f'A quantidade de latas de tinta a comprar é de {qtdade_lata}, totalizando um custo de {custo} reais')"
   ]
  },
  {
   "cell_type": "markdown",
   "id": "d6503c92",
   "metadata": {
    "id": "d6503c92"
   },
   "source": [
    "#### 14. Faça um programa que peça o tamanho de um arquivo para download (em MB) e a velocidade de um link de Internet (em Mbps), calcule e informe o tempo aproximado de download do arquivo usando este link (em minutos).\n",
    "\n",
    "Detalhe: MB significa megabyte, Mb (com b minúsculo) significa megabit. Um megabit é 1/8 de um megabyte. "
   ]
  },
  {
   "cell_type": "code",
   "execution_count": 199,
   "id": "0563aa62",
   "metadata": {
    "id": "0563aa62"
   },
   "outputs": [
    {
     "name": "stdout",
     "output_type": "stream",
     "text": [
      "Vou te ajudar a saber o tempo de download ok, vamos lá\n"
     ]
    },
    {
     "name": "stdin",
     "output_type": "stream",
     "text": [
      "Qual o tamanho do arvivo em magabytes? 9658.4\n",
      "ok obrigada, agora preciso saber qual a velocidade da internet que vc usa, escreva em Mbps: 0.245\n"
     ]
    },
    {
     "name": "stdout",
     "output_type": "stream",
     "text": [
      "O tempo de download será de 5256.272108843537 minutos\n"
     ]
    }
   ],
   "source": [
    "print('Vou te ajudar a saber o tempo de download ok, vamos lá')\n",
    "arquivo = float(input('Qual o tamanho do arvivo em magabytes?'))\n",
    "velocidade = float(input('ok obrigada, agora preciso saber qual a velocidade da internet que vc usa, escreva em Mbps:'))  \n",
    "#conversão da velocidade \n",
    "vconver = velocidade / 8\n",
    "#tempo em segundos \n",
    "segundos = arquivo / vconver\n",
    "#tempo em minutos \n",
    "minutos = segundos / 60\n",
    "print(f'O tempo de download será de {minutos} minutos')\n",
    " "
   ]
  },
  {
   "cell_type": "code",
   "execution_count": null,
   "id": "4bc165b3-0698-4e9f-8ad8-ead4d2c05ad4",
   "metadata": {},
   "outputs": [],
   "source": []
  }
 ],
 "metadata": {
  "colab": {
   "provenance": []
  },
  "kernelspec": {
   "display_name": "Python 3 (ipykernel)",
   "language": "python",
   "name": "python3"
  },
  "language_info": {
   "codemirror_mode": {
    "name": "ipython",
    "version": 3
   },
   "file_extension": ".py",
   "mimetype": "text/x-python",
   "name": "python",
   "nbconvert_exporter": "python",
   "pygments_lexer": "ipython3",
   "version": "3.12.7"
  }
 },
 "nbformat": 4,
 "nbformat_minor": 5
}
